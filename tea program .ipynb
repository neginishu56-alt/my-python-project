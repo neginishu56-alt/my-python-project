{
 "cells": [
  {
   "cell_type": "code",
   "execution_count": null,
   "id": "8eb36b03-f866-4aab-a889-db7da10245fb",
   "metadata": {},
   "outputs": [
    {
     "name": "stdout",
     "output_type": "stream",
     "text": [
      "welcome our tea stall \n"
     ]
    }
   ],
   "source": [
    "def program(tea_type):   #tea program\n",
    "  if tea_type==\"milk tea\":\n",
    "    print(\"water\")\n",
    "    print(\"milk\")\n",
    "    print(\"suger\")\n",
    "    print(\"tea leaves\")\n",
    "  elif tea_type==\"lemon tea\":\n",
    "    print(\"water\")\n",
    "    print(\"lemon\")\n",
    "    print(\"tea leaves\")\n",
    "  elif tea_type==\"green tea\":\n",
    "    print(\"tea leaves\")\n",
    "    print(\"water\")\n",
    "    print(\"less suger\")\n",
    "  else:\n",
    "    print(\"sorry we dont have that tea\")\n",
    "\n",
    "#main function\n",
    "print(\"welcome our tea stall \")\n",
    "tea_type= input(\"enter your tea type\")\n",
    "program(tea_type)\n"
   ]
  },
  {
   "cell_type": "code",
   "execution_count": null,
   "id": "56abded8-72c9-43e5-b278-8a97a64ca7b6",
   "metadata": {},
   "outputs": [],
   "source": []
  }
 ],
 "metadata": {
  "kernelspec": {
   "display_name": "Python [conda env:base] *",
   "language": "python",
   "name": "conda-base-py"
  },
  "language_info": {
   "codemirror_mode": {
    "name": "ipython",
    "version": 3
   },
   "file_extension": ".py",
   "mimetype": "text/x-python",
   "name": "python",
   "nbconvert_exporter": "python",
   "pygments_lexer": "ipython3",
   "version": "3.12.7"
  }
 },
 "nbformat": 4,
 "nbformat_minor": 5
}
